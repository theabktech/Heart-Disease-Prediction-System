{
  "nbformat": 4,
  "nbformat_minor": 0,
  "metadata": {
    "kernelspec": {
      "display_name": "Python 3",
      "language": "python",
      "name": "python3"
    },
    "language_info": {
      "codemirror_mode": {
        "name": "ipython",
        "version": 3
      },
      "file_extension": ".py",
      "mimetype": "text/x-python",
      "name": "python",
      "nbconvert_exporter": "python",
      "pygments_lexer": "ipython3",
      "version": "3.8.5"
    },
    "colab": {
      "name": "Heart disease feature selection.ipynb",
      "provenance": [],
      "collapsed_sections": []
    }
  },
  "cells": [
    {
      "cell_type": "code",
      "metadata": {
        "colab": {
          "base_uri": "https://localhost:8080/"
        },
        "id": "8zjuDAgB24Sk",
        "outputId": "52ab9b88-b951-45d5-dac3-1998cc05d145"
      },
      "source": [
        "from google.colab import drive\n",
        "drive.mount('/content/drive')"
      ],
      "execution_count": 1,
      "outputs": [
        {
          "output_type": "stream",
          "name": "stdout",
          "text": [
            "Mounted at /content/drive\n"
          ]
        }
      ]
    },
    {
      "cell_type": "code",
      "metadata": {
        "id": "Kns3Y5XuwwP7"
      },
      "source": [
        "import pandas as pd\n",
        "import numpy as np\n",
        "from sklearn.preprocessing import LabelEncoder\n",
        "from sklearn.feature_selection import VarianceThreshold\n",
        "from sklearn.feature_selection import SelectFromModel, SelectKBest, RFE, chi2\n",
        "from sklearn.svm import SVC, LinearSVC\n",
        "from sklearn.linear_model import LassoCV, LogisticRegression"
      ],
      "execution_count": 2,
      "outputs": []
    },
    {
      "cell_type": "code",
      "metadata": {
        "id": "mT_6OJHNwwP_"
      },
      "source": [
        "data = pd.read_csv('/content/drive/MyDrive/Heart Dataset/heart.csv')"
      ],
      "execution_count": 5,
      "outputs": []
    },
    {
      "cell_type": "code",
      "metadata": {
        "id": "HkV6kKwYwwQA"
      },
      "source": [
        "X = dataset.iloc[:, 3:-1].values\n",
        "y = dataset.iloc[:, -1].values"
      ],
      "execution_count": null,
      "outputs": []
    },
    {
      "cell_type": "code",
      "metadata": {
        "id": "CqSmL7mOwwQB",
        "colab": {
          "base_uri": "https://localhost:8080/"
        },
        "outputId": "66b01126-5477-41f6-8d26-a93cc1646af6"
      },
      "source": [
        "categorical_columns = []\n",
        "numerics = ['int8', 'int16', 'int32', 'int64', 'float16', 'float32', 'float64']\n",
        "features = data.columns.values.tolist()\n",
        "for col in features:\n",
        "    if data[col].dtype in numerics: continue\n",
        "    categorical_columns.append(col)\n",
        "categorical_columns"
      ],
      "execution_count": 6,
      "outputs": [
        {
          "output_type": "execute_result",
          "data": {
            "text/plain": [
              "[]"
            ]
          },
          "metadata": {},
          "execution_count": 6
        }
      ]
    },
    {
      "cell_type": "code",
      "metadata": {
        "id": "7UVEzTdSwwQC"
      },
      "source": [
        "for col in categorical_columns:\n",
        "    if col in data.columns:\n",
        "        le = LabelEncoder()\n",
        "        le.fit(list(data[col].astype(str).values))\n",
        "        data[col] = le.transform(list(data[col].astype(str).values))"
      ],
      "execution_count": 7,
      "outputs": []
    },
    {
      "cell_type": "code",
      "metadata": {
        "id": "aZvfC5KswwQD"
      },
      "source": [
        "train = data.copy()\n",
        "target = train.pop('target')"
      ],
      "execution_count": 8,
      "outputs": []
    },
    {
      "cell_type": "code",
      "metadata": {
        "id": "DsEvsxxywwQD"
      },
      "source": [
        "num_features_opt = 10   # the number of features that we need to choose as a result\n",
        "num_features_max = 13   # the somewhat excessive number of features, which we will choose at each stage\n",
        "features_best = []"
      ],
      "execution_count": 9,
      "outputs": []
    },
    {
      "cell_type": "markdown",
      "metadata": {
        "id": "hVrvcTB7wwQE"
      },
      "source": [
        "### Pearson correlation"
      ]
    },
    {
      "cell_type": "code",
      "metadata": {
        "id": "3QJQIeA1wwQE"
      },
      "source": [
        "threshold = 0.9"
      ],
      "execution_count": 10,
      "outputs": []
    },
    {
      "cell_type": "code",
      "metadata": {
        "id": "QCAvPId7wwQE",
        "colab": {
          "base_uri": "https://localhost:8080/",
          "height": 325
        },
        "outputId": "14d0e2a0-5441-49b4-e2c2-171b2b3e7103"
      },
      "source": [
        "def highlight(value):\n",
        "    if value > threshold:\n",
        "        style = 'background-color: red'\n",
        "    else:\n",
        "        style = 'background-color: black'\n",
        "    return style\n",
        "\n",
        "# Absolute value correlation matrix\n",
        "corr_matrix = data.corr().abs().round(2)\n",
        "upper = corr_matrix.where(np.triu(np.ones(corr_matrix.shape), k=1).astype(np.bool))\n",
        "upper.style.format(\"{:.2f}\").applymap(highlight)"
      ],
      "execution_count": 11,
      "outputs": [
        {
          "output_type": "execute_result",
          "data": {
            "text/html": [
              "<style  type=\"text/css\" >\n",
              "#T_c4e63ea2_1ac5_11ec_8e92_0242ac1c0002row0_col0,#T_c4e63ea2_1ac5_11ec_8e92_0242ac1c0002row0_col1,#T_c4e63ea2_1ac5_11ec_8e92_0242ac1c0002row0_col2,#T_c4e63ea2_1ac5_11ec_8e92_0242ac1c0002row0_col3,#T_c4e63ea2_1ac5_11ec_8e92_0242ac1c0002row0_col4,#T_c4e63ea2_1ac5_11ec_8e92_0242ac1c0002row0_col5,#T_c4e63ea2_1ac5_11ec_8e92_0242ac1c0002row0_col6,#T_c4e63ea2_1ac5_11ec_8e92_0242ac1c0002row0_col7,#T_c4e63ea2_1ac5_11ec_8e92_0242ac1c0002row0_col8,#T_c4e63ea2_1ac5_11ec_8e92_0242ac1c0002row0_col9,#T_c4e63ea2_1ac5_11ec_8e92_0242ac1c0002row0_col10,#T_c4e63ea2_1ac5_11ec_8e92_0242ac1c0002row0_col11,#T_c4e63ea2_1ac5_11ec_8e92_0242ac1c0002row0_col12,#T_c4e63ea2_1ac5_11ec_8e92_0242ac1c0002row0_col13,#T_c4e63ea2_1ac5_11ec_8e92_0242ac1c0002row1_col0,#T_c4e63ea2_1ac5_11ec_8e92_0242ac1c0002row1_col1,#T_c4e63ea2_1ac5_11ec_8e92_0242ac1c0002row1_col2,#T_c4e63ea2_1ac5_11ec_8e92_0242ac1c0002row1_col3,#T_c4e63ea2_1ac5_11ec_8e92_0242ac1c0002row1_col4,#T_c4e63ea2_1ac5_11ec_8e92_0242ac1c0002row1_col5,#T_c4e63ea2_1ac5_11ec_8e92_0242ac1c0002row1_col6,#T_c4e63ea2_1ac5_11ec_8e92_0242ac1c0002row1_col7,#T_c4e63ea2_1ac5_11ec_8e92_0242ac1c0002row1_col8,#T_c4e63ea2_1ac5_11ec_8e92_0242ac1c0002row1_col9,#T_c4e63ea2_1ac5_11ec_8e92_0242ac1c0002row1_col10,#T_c4e63ea2_1ac5_11ec_8e92_0242ac1c0002row1_col11,#T_c4e63ea2_1ac5_11ec_8e92_0242ac1c0002row1_col12,#T_c4e63ea2_1ac5_11ec_8e92_0242ac1c0002row1_col13,#T_c4e63ea2_1ac5_11ec_8e92_0242ac1c0002row2_col0,#T_c4e63ea2_1ac5_11ec_8e92_0242ac1c0002row2_col1,#T_c4e63ea2_1ac5_11ec_8e92_0242ac1c0002row2_col2,#T_c4e63ea2_1ac5_11ec_8e92_0242ac1c0002row2_col3,#T_c4e63ea2_1ac5_11ec_8e92_0242ac1c0002row2_col4,#T_c4e63ea2_1ac5_11ec_8e92_0242ac1c0002row2_col5,#T_c4e63ea2_1ac5_11ec_8e92_0242ac1c0002row2_col6,#T_c4e63ea2_1ac5_11ec_8e92_0242ac1c0002row2_col7,#T_c4e63ea2_1ac5_11ec_8e92_0242ac1c0002row2_col8,#T_c4e63ea2_1ac5_11ec_8e92_0242ac1c0002row2_col9,#T_c4e63ea2_1ac5_11ec_8e92_0242ac1c0002row2_col10,#T_c4e63ea2_1ac5_11ec_8e92_0242ac1c0002row2_col11,#T_c4e63ea2_1ac5_11ec_8e92_0242ac1c0002row2_col12,#T_c4e63ea2_1ac5_11ec_8e92_0242ac1c0002row2_col13,#T_c4e63ea2_1ac5_11ec_8e92_0242ac1c0002row3_col0,#T_c4e63ea2_1ac5_11ec_8e92_0242ac1c0002row3_col1,#T_c4e63ea2_1ac5_11ec_8e92_0242ac1c0002row3_col2,#T_c4e63ea2_1ac5_11ec_8e92_0242ac1c0002row3_col3,#T_c4e63ea2_1ac5_11ec_8e92_0242ac1c0002row3_col4,#T_c4e63ea2_1ac5_11ec_8e92_0242ac1c0002row3_col5,#T_c4e63ea2_1ac5_11ec_8e92_0242ac1c0002row3_col6,#T_c4e63ea2_1ac5_11ec_8e92_0242ac1c0002row3_col7,#T_c4e63ea2_1ac5_11ec_8e92_0242ac1c0002row3_col8,#T_c4e63ea2_1ac5_11ec_8e92_0242ac1c0002row3_col9,#T_c4e63ea2_1ac5_11ec_8e92_0242ac1c0002row3_col10,#T_c4e63ea2_1ac5_11ec_8e92_0242ac1c0002row3_col11,#T_c4e63ea2_1ac5_11ec_8e92_0242ac1c0002row3_col12,#T_c4e63ea2_1ac5_11ec_8e92_0242ac1c0002row3_col13,#T_c4e63ea2_1ac5_11ec_8e92_0242ac1c0002row4_col0,#T_c4e63ea2_1ac5_11ec_8e92_0242ac1c0002row4_col1,#T_c4e63ea2_1ac5_11ec_8e92_0242ac1c0002row4_col2,#T_c4e63ea2_1ac5_11ec_8e92_0242ac1c0002row4_col3,#T_c4e63ea2_1ac5_11ec_8e92_0242ac1c0002row4_col4,#T_c4e63ea2_1ac5_11ec_8e92_0242ac1c0002row4_col5,#T_c4e63ea2_1ac5_11ec_8e92_0242ac1c0002row4_col6,#T_c4e63ea2_1ac5_11ec_8e92_0242ac1c0002row4_col7,#T_c4e63ea2_1ac5_11ec_8e92_0242ac1c0002row4_col8,#T_c4e63ea2_1ac5_11ec_8e92_0242ac1c0002row4_col9,#T_c4e63ea2_1ac5_11ec_8e92_0242ac1c0002row4_col10,#T_c4e63ea2_1ac5_11ec_8e92_0242ac1c0002row4_col11,#T_c4e63ea2_1ac5_11ec_8e92_0242ac1c0002row4_col12,#T_c4e63ea2_1ac5_11ec_8e92_0242ac1c0002row4_col13,#T_c4e63ea2_1ac5_11ec_8e92_0242ac1c0002row5_col0,#T_c4e63ea2_1ac5_11ec_8e92_0242ac1c0002row5_col1,#T_c4e63ea2_1ac5_11ec_8e92_0242ac1c0002row5_col2,#T_c4e63ea2_1ac5_11ec_8e92_0242ac1c0002row5_col3,#T_c4e63ea2_1ac5_11ec_8e92_0242ac1c0002row5_col4,#T_c4e63ea2_1ac5_11ec_8e92_0242ac1c0002row5_col5,#T_c4e63ea2_1ac5_11ec_8e92_0242ac1c0002row5_col6,#T_c4e63ea2_1ac5_11ec_8e92_0242ac1c0002row5_col7,#T_c4e63ea2_1ac5_11ec_8e92_0242ac1c0002row5_col8,#T_c4e63ea2_1ac5_11ec_8e92_0242ac1c0002row5_col9,#T_c4e63ea2_1ac5_11ec_8e92_0242ac1c0002row5_col10,#T_c4e63ea2_1ac5_11ec_8e92_0242ac1c0002row5_col11,#T_c4e63ea2_1ac5_11ec_8e92_0242ac1c0002row5_col12,#T_c4e63ea2_1ac5_11ec_8e92_0242ac1c0002row5_col13,#T_c4e63ea2_1ac5_11ec_8e92_0242ac1c0002row6_col0,#T_c4e63ea2_1ac5_11ec_8e92_0242ac1c0002row6_col1,#T_c4e63ea2_1ac5_11ec_8e92_0242ac1c0002row6_col2,#T_c4e63ea2_1ac5_11ec_8e92_0242ac1c0002row6_col3,#T_c4e63ea2_1ac5_11ec_8e92_0242ac1c0002row6_col4,#T_c4e63ea2_1ac5_11ec_8e92_0242ac1c0002row6_col5,#T_c4e63ea2_1ac5_11ec_8e92_0242ac1c0002row6_col6,#T_c4e63ea2_1ac5_11ec_8e92_0242ac1c0002row6_col7,#T_c4e63ea2_1ac5_11ec_8e92_0242ac1c0002row6_col8,#T_c4e63ea2_1ac5_11ec_8e92_0242ac1c0002row6_col9,#T_c4e63ea2_1ac5_11ec_8e92_0242ac1c0002row6_col10,#T_c4e63ea2_1ac5_11ec_8e92_0242ac1c0002row6_col11,#T_c4e63ea2_1ac5_11ec_8e92_0242ac1c0002row6_col12,#T_c4e63ea2_1ac5_11ec_8e92_0242ac1c0002row6_col13,#T_c4e63ea2_1ac5_11ec_8e92_0242ac1c0002row7_col0,#T_c4e63ea2_1ac5_11ec_8e92_0242ac1c0002row7_col1,#T_c4e63ea2_1ac5_11ec_8e92_0242ac1c0002row7_col2,#T_c4e63ea2_1ac5_11ec_8e92_0242ac1c0002row7_col3,#T_c4e63ea2_1ac5_11ec_8e92_0242ac1c0002row7_col4,#T_c4e63ea2_1ac5_11ec_8e92_0242ac1c0002row7_col5,#T_c4e63ea2_1ac5_11ec_8e92_0242ac1c0002row7_col6,#T_c4e63ea2_1ac5_11ec_8e92_0242ac1c0002row7_col7,#T_c4e63ea2_1ac5_11ec_8e92_0242ac1c0002row7_col8,#T_c4e63ea2_1ac5_11ec_8e92_0242ac1c0002row7_col9,#T_c4e63ea2_1ac5_11ec_8e92_0242ac1c0002row7_col10,#T_c4e63ea2_1ac5_11ec_8e92_0242ac1c0002row7_col11,#T_c4e63ea2_1ac5_11ec_8e92_0242ac1c0002row7_col12,#T_c4e63ea2_1ac5_11ec_8e92_0242ac1c0002row7_col13,#T_c4e63ea2_1ac5_11ec_8e92_0242ac1c0002row8_col0,#T_c4e63ea2_1ac5_11ec_8e92_0242ac1c0002row8_col1,#T_c4e63ea2_1ac5_11ec_8e92_0242ac1c0002row8_col2,#T_c4e63ea2_1ac5_11ec_8e92_0242ac1c0002row8_col3,#T_c4e63ea2_1ac5_11ec_8e92_0242ac1c0002row8_col4,#T_c4e63ea2_1ac5_11ec_8e92_0242ac1c0002row8_col5,#T_c4e63ea2_1ac5_11ec_8e92_0242ac1c0002row8_col6,#T_c4e63ea2_1ac5_11ec_8e92_0242ac1c0002row8_col7,#T_c4e63ea2_1ac5_11ec_8e92_0242ac1c0002row8_col8,#T_c4e63ea2_1ac5_11ec_8e92_0242ac1c0002row8_col9,#T_c4e63ea2_1ac5_11ec_8e92_0242ac1c0002row8_col10,#T_c4e63ea2_1ac5_11ec_8e92_0242ac1c0002row8_col11,#T_c4e63ea2_1ac5_11ec_8e92_0242ac1c0002row8_col12,#T_c4e63ea2_1ac5_11ec_8e92_0242ac1c0002row8_col13,#T_c4e63ea2_1ac5_11ec_8e92_0242ac1c0002row9_col0,#T_c4e63ea2_1ac5_11ec_8e92_0242ac1c0002row9_col1,#T_c4e63ea2_1ac5_11ec_8e92_0242ac1c0002row9_col2,#T_c4e63ea2_1ac5_11ec_8e92_0242ac1c0002row9_col3,#T_c4e63ea2_1ac5_11ec_8e92_0242ac1c0002row9_col4,#T_c4e63ea2_1ac5_11ec_8e92_0242ac1c0002row9_col5,#T_c4e63ea2_1ac5_11ec_8e92_0242ac1c0002row9_col6,#T_c4e63ea2_1ac5_11ec_8e92_0242ac1c0002row9_col7,#T_c4e63ea2_1ac5_11ec_8e92_0242ac1c0002row9_col8,#T_c4e63ea2_1ac5_11ec_8e92_0242ac1c0002row9_col9,#T_c4e63ea2_1ac5_11ec_8e92_0242ac1c0002row9_col10,#T_c4e63ea2_1ac5_11ec_8e92_0242ac1c0002row9_col11,#T_c4e63ea2_1ac5_11ec_8e92_0242ac1c0002row9_col12,#T_c4e63ea2_1ac5_11ec_8e92_0242ac1c0002row9_col13,#T_c4e63ea2_1ac5_11ec_8e92_0242ac1c0002row10_col0,#T_c4e63ea2_1ac5_11ec_8e92_0242ac1c0002row10_col1,#T_c4e63ea2_1ac5_11ec_8e92_0242ac1c0002row10_col2,#T_c4e63ea2_1ac5_11ec_8e92_0242ac1c0002row10_col3,#T_c4e63ea2_1ac5_11ec_8e92_0242ac1c0002row10_col4,#T_c4e63ea2_1ac5_11ec_8e92_0242ac1c0002row10_col5,#T_c4e63ea2_1ac5_11ec_8e92_0242ac1c0002row10_col6,#T_c4e63ea2_1ac5_11ec_8e92_0242ac1c0002row10_col7,#T_c4e63ea2_1ac5_11ec_8e92_0242ac1c0002row10_col8,#T_c4e63ea2_1ac5_11ec_8e92_0242ac1c0002row10_col9,#T_c4e63ea2_1ac5_11ec_8e92_0242ac1c0002row10_col10,#T_c4e63ea2_1ac5_11ec_8e92_0242ac1c0002row10_col11,#T_c4e63ea2_1ac5_11ec_8e92_0242ac1c0002row10_col12,#T_c4e63ea2_1ac5_11ec_8e92_0242ac1c0002row10_col13,#T_c4e63ea2_1ac5_11ec_8e92_0242ac1c0002row11_col0,#T_c4e63ea2_1ac5_11ec_8e92_0242ac1c0002row11_col1,#T_c4e63ea2_1ac5_11ec_8e92_0242ac1c0002row11_col2,#T_c4e63ea2_1ac5_11ec_8e92_0242ac1c0002row11_col3,#T_c4e63ea2_1ac5_11ec_8e92_0242ac1c0002row11_col4,#T_c4e63ea2_1ac5_11ec_8e92_0242ac1c0002row11_col5,#T_c4e63ea2_1ac5_11ec_8e92_0242ac1c0002row11_col6,#T_c4e63ea2_1ac5_11ec_8e92_0242ac1c0002row11_col7,#T_c4e63ea2_1ac5_11ec_8e92_0242ac1c0002row11_col8,#T_c4e63ea2_1ac5_11ec_8e92_0242ac1c0002row11_col9,#T_c4e63ea2_1ac5_11ec_8e92_0242ac1c0002row11_col10,#T_c4e63ea2_1ac5_11ec_8e92_0242ac1c0002row11_col11,#T_c4e63ea2_1ac5_11ec_8e92_0242ac1c0002row11_col12,#T_c4e63ea2_1ac5_11ec_8e92_0242ac1c0002row11_col13,#T_c4e63ea2_1ac5_11ec_8e92_0242ac1c0002row12_col0,#T_c4e63ea2_1ac5_11ec_8e92_0242ac1c0002row12_col1,#T_c4e63ea2_1ac5_11ec_8e92_0242ac1c0002row12_col2,#T_c4e63ea2_1ac5_11ec_8e92_0242ac1c0002row12_col3,#T_c4e63ea2_1ac5_11ec_8e92_0242ac1c0002row12_col4,#T_c4e63ea2_1ac5_11ec_8e92_0242ac1c0002row12_col5,#T_c4e63ea2_1ac5_11ec_8e92_0242ac1c0002row12_col6,#T_c4e63ea2_1ac5_11ec_8e92_0242ac1c0002row12_col7,#T_c4e63ea2_1ac5_11ec_8e92_0242ac1c0002row12_col8,#T_c4e63ea2_1ac5_11ec_8e92_0242ac1c0002row12_col9,#T_c4e63ea2_1ac5_11ec_8e92_0242ac1c0002row12_col10,#T_c4e63ea2_1ac5_11ec_8e92_0242ac1c0002row12_col11,#T_c4e63ea2_1ac5_11ec_8e92_0242ac1c0002row12_col12,#T_c4e63ea2_1ac5_11ec_8e92_0242ac1c0002row12_col13,#T_c4e63ea2_1ac5_11ec_8e92_0242ac1c0002row13_col0,#T_c4e63ea2_1ac5_11ec_8e92_0242ac1c0002row13_col1,#T_c4e63ea2_1ac5_11ec_8e92_0242ac1c0002row13_col2,#T_c4e63ea2_1ac5_11ec_8e92_0242ac1c0002row13_col3,#T_c4e63ea2_1ac5_11ec_8e92_0242ac1c0002row13_col4,#T_c4e63ea2_1ac5_11ec_8e92_0242ac1c0002row13_col5,#T_c4e63ea2_1ac5_11ec_8e92_0242ac1c0002row13_col6,#T_c4e63ea2_1ac5_11ec_8e92_0242ac1c0002row13_col7,#T_c4e63ea2_1ac5_11ec_8e92_0242ac1c0002row13_col8,#T_c4e63ea2_1ac5_11ec_8e92_0242ac1c0002row13_col9,#T_c4e63ea2_1ac5_11ec_8e92_0242ac1c0002row13_col10,#T_c4e63ea2_1ac5_11ec_8e92_0242ac1c0002row13_col11,#T_c4e63ea2_1ac5_11ec_8e92_0242ac1c0002row13_col12,#T_c4e63ea2_1ac5_11ec_8e92_0242ac1c0002row13_col13{\n",
              "            background-color:  black;\n",
              "        }</style><table id=\"T_c4e63ea2_1ac5_11ec_8e92_0242ac1c0002\" ><thead>    <tr>        <th class=\"blank level0\" ></th>        <th class=\"col_heading level0 col0\" >age</th>        <th class=\"col_heading level0 col1\" >sex</th>        <th class=\"col_heading level0 col2\" >cp</th>        <th class=\"col_heading level0 col3\" >trestbps</th>        <th class=\"col_heading level0 col4\" >chol</th>        <th class=\"col_heading level0 col5\" >fbs</th>        <th class=\"col_heading level0 col6\" >restecg</th>        <th class=\"col_heading level0 col7\" >thalach</th>        <th class=\"col_heading level0 col8\" >exang</th>        <th class=\"col_heading level0 col9\" >oldpeak</th>        <th class=\"col_heading level0 col10\" >slope</th>        <th class=\"col_heading level0 col11\" >ca</th>        <th class=\"col_heading level0 col12\" >thal</th>        <th class=\"col_heading level0 col13\" >target</th>    </tr></thead><tbody>\n",
              "                <tr>\n",
              "                        <th id=\"T_c4e63ea2_1ac5_11ec_8e92_0242ac1c0002level0_row0\" class=\"row_heading level0 row0\" >age</th>\n",
              "                        <td id=\"T_c4e63ea2_1ac5_11ec_8e92_0242ac1c0002row0_col0\" class=\"data row0 col0\" >nan</td>\n",
              "                        <td id=\"T_c4e63ea2_1ac5_11ec_8e92_0242ac1c0002row0_col1\" class=\"data row0 col1\" >0.10</td>\n",
              "                        <td id=\"T_c4e63ea2_1ac5_11ec_8e92_0242ac1c0002row0_col2\" class=\"data row0 col2\" >0.07</td>\n",
              "                        <td id=\"T_c4e63ea2_1ac5_11ec_8e92_0242ac1c0002row0_col3\" class=\"data row0 col3\" >0.28</td>\n",
              "                        <td id=\"T_c4e63ea2_1ac5_11ec_8e92_0242ac1c0002row0_col4\" class=\"data row0 col4\" >0.21</td>\n",
              "                        <td id=\"T_c4e63ea2_1ac5_11ec_8e92_0242ac1c0002row0_col5\" class=\"data row0 col5\" >0.12</td>\n",
              "                        <td id=\"T_c4e63ea2_1ac5_11ec_8e92_0242ac1c0002row0_col6\" class=\"data row0 col6\" >0.12</td>\n",
              "                        <td id=\"T_c4e63ea2_1ac5_11ec_8e92_0242ac1c0002row0_col7\" class=\"data row0 col7\" >0.40</td>\n",
              "                        <td id=\"T_c4e63ea2_1ac5_11ec_8e92_0242ac1c0002row0_col8\" class=\"data row0 col8\" >0.10</td>\n",
              "                        <td id=\"T_c4e63ea2_1ac5_11ec_8e92_0242ac1c0002row0_col9\" class=\"data row0 col9\" >0.21</td>\n",
              "                        <td id=\"T_c4e63ea2_1ac5_11ec_8e92_0242ac1c0002row0_col10\" class=\"data row0 col10\" >0.17</td>\n",
              "                        <td id=\"T_c4e63ea2_1ac5_11ec_8e92_0242ac1c0002row0_col11\" class=\"data row0 col11\" >0.28</td>\n",
              "                        <td id=\"T_c4e63ea2_1ac5_11ec_8e92_0242ac1c0002row0_col12\" class=\"data row0 col12\" >0.07</td>\n",
              "                        <td id=\"T_c4e63ea2_1ac5_11ec_8e92_0242ac1c0002row0_col13\" class=\"data row0 col13\" >0.23</td>\n",
              "            </tr>\n",
              "            <tr>\n",
              "                        <th id=\"T_c4e63ea2_1ac5_11ec_8e92_0242ac1c0002level0_row1\" class=\"row_heading level0 row1\" >sex</th>\n",
              "                        <td id=\"T_c4e63ea2_1ac5_11ec_8e92_0242ac1c0002row1_col0\" class=\"data row1 col0\" >nan</td>\n",
              "                        <td id=\"T_c4e63ea2_1ac5_11ec_8e92_0242ac1c0002row1_col1\" class=\"data row1 col1\" >nan</td>\n",
              "                        <td id=\"T_c4e63ea2_1ac5_11ec_8e92_0242ac1c0002row1_col2\" class=\"data row1 col2\" >0.05</td>\n",
              "                        <td id=\"T_c4e63ea2_1ac5_11ec_8e92_0242ac1c0002row1_col3\" class=\"data row1 col3\" >0.06</td>\n",
              "                        <td id=\"T_c4e63ea2_1ac5_11ec_8e92_0242ac1c0002row1_col4\" class=\"data row1 col4\" >0.20</td>\n",
              "                        <td id=\"T_c4e63ea2_1ac5_11ec_8e92_0242ac1c0002row1_col5\" class=\"data row1 col5\" >0.05</td>\n",
              "                        <td id=\"T_c4e63ea2_1ac5_11ec_8e92_0242ac1c0002row1_col6\" class=\"data row1 col6\" >0.06</td>\n",
              "                        <td id=\"T_c4e63ea2_1ac5_11ec_8e92_0242ac1c0002row1_col7\" class=\"data row1 col7\" >0.04</td>\n",
              "                        <td id=\"T_c4e63ea2_1ac5_11ec_8e92_0242ac1c0002row1_col8\" class=\"data row1 col8\" >0.14</td>\n",
              "                        <td id=\"T_c4e63ea2_1ac5_11ec_8e92_0242ac1c0002row1_col9\" class=\"data row1 col9\" >0.10</td>\n",
              "                        <td id=\"T_c4e63ea2_1ac5_11ec_8e92_0242ac1c0002row1_col10\" class=\"data row1 col10\" >0.03</td>\n",
              "                        <td id=\"T_c4e63ea2_1ac5_11ec_8e92_0242ac1c0002row1_col11\" class=\"data row1 col11\" >0.12</td>\n",
              "                        <td id=\"T_c4e63ea2_1ac5_11ec_8e92_0242ac1c0002row1_col12\" class=\"data row1 col12\" >0.21</td>\n",
              "                        <td id=\"T_c4e63ea2_1ac5_11ec_8e92_0242ac1c0002row1_col13\" class=\"data row1 col13\" >0.28</td>\n",
              "            </tr>\n",
              "            <tr>\n",
              "                        <th id=\"T_c4e63ea2_1ac5_11ec_8e92_0242ac1c0002level0_row2\" class=\"row_heading level0 row2\" >cp</th>\n",
              "                        <td id=\"T_c4e63ea2_1ac5_11ec_8e92_0242ac1c0002row2_col0\" class=\"data row2 col0\" >nan</td>\n",
              "                        <td id=\"T_c4e63ea2_1ac5_11ec_8e92_0242ac1c0002row2_col1\" class=\"data row2 col1\" >nan</td>\n",
              "                        <td id=\"T_c4e63ea2_1ac5_11ec_8e92_0242ac1c0002row2_col2\" class=\"data row2 col2\" >nan</td>\n",
              "                        <td id=\"T_c4e63ea2_1ac5_11ec_8e92_0242ac1c0002row2_col3\" class=\"data row2 col3\" >0.05</td>\n",
              "                        <td id=\"T_c4e63ea2_1ac5_11ec_8e92_0242ac1c0002row2_col4\" class=\"data row2 col4\" >0.08</td>\n",
              "                        <td id=\"T_c4e63ea2_1ac5_11ec_8e92_0242ac1c0002row2_col5\" class=\"data row2 col5\" >0.09</td>\n",
              "                        <td id=\"T_c4e63ea2_1ac5_11ec_8e92_0242ac1c0002row2_col6\" class=\"data row2 col6\" >0.04</td>\n",
              "                        <td id=\"T_c4e63ea2_1ac5_11ec_8e92_0242ac1c0002row2_col7\" class=\"data row2 col7\" >0.30</td>\n",
              "                        <td id=\"T_c4e63ea2_1ac5_11ec_8e92_0242ac1c0002row2_col8\" class=\"data row2 col8\" >0.39</td>\n",
              "                        <td id=\"T_c4e63ea2_1ac5_11ec_8e92_0242ac1c0002row2_col9\" class=\"data row2 col9\" >0.15</td>\n",
              "                        <td id=\"T_c4e63ea2_1ac5_11ec_8e92_0242ac1c0002row2_col10\" class=\"data row2 col10\" >0.12</td>\n",
              "                        <td id=\"T_c4e63ea2_1ac5_11ec_8e92_0242ac1c0002row2_col11\" class=\"data row2 col11\" >0.18</td>\n",
              "                        <td id=\"T_c4e63ea2_1ac5_11ec_8e92_0242ac1c0002row2_col12\" class=\"data row2 col12\" >0.16</td>\n",
              "                        <td id=\"T_c4e63ea2_1ac5_11ec_8e92_0242ac1c0002row2_col13\" class=\"data row2 col13\" >0.43</td>\n",
              "            </tr>\n",
              "            <tr>\n",
              "                        <th id=\"T_c4e63ea2_1ac5_11ec_8e92_0242ac1c0002level0_row3\" class=\"row_heading level0 row3\" >trestbps</th>\n",
              "                        <td id=\"T_c4e63ea2_1ac5_11ec_8e92_0242ac1c0002row3_col0\" class=\"data row3 col0\" >nan</td>\n",
              "                        <td id=\"T_c4e63ea2_1ac5_11ec_8e92_0242ac1c0002row3_col1\" class=\"data row3 col1\" >nan</td>\n",
              "                        <td id=\"T_c4e63ea2_1ac5_11ec_8e92_0242ac1c0002row3_col2\" class=\"data row3 col2\" >nan</td>\n",
              "                        <td id=\"T_c4e63ea2_1ac5_11ec_8e92_0242ac1c0002row3_col3\" class=\"data row3 col3\" >nan</td>\n",
              "                        <td id=\"T_c4e63ea2_1ac5_11ec_8e92_0242ac1c0002row3_col4\" class=\"data row3 col4\" >0.12</td>\n",
              "                        <td id=\"T_c4e63ea2_1ac5_11ec_8e92_0242ac1c0002row3_col5\" class=\"data row3 col5\" >0.18</td>\n",
              "                        <td id=\"T_c4e63ea2_1ac5_11ec_8e92_0242ac1c0002row3_col6\" class=\"data row3 col6\" >0.11</td>\n",
              "                        <td id=\"T_c4e63ea2_1ac5_11ec_8e92_0242ac1c0002row3_col7\" class=\"data row3 col7\" >0.05</td>\n",
              "                        <td id=\"T_c4e63ea2_1ac5_11ec_8e92_0242ac1c0002row3_col8\" class=\"data row3 col8\" >0.07</td>\n",
              "                        <td id=\"T_c4e63ea2_1ac5_11ec_8e92_0242ac1c0002row3_col9\" class=\"data row3 col9\" >0.19</td>\n",
              "                        <td id=\"T_c4e63ea2_1ac5_11ec_8e92_0242ac1c0002row3_col10\" class=\"data row3 col10\" >0.12</td>\n",
              "                        <td id=\"T_c4e63ea2_1ac5_11ec_8e92_0242ac1c0002row3_col11\" class=\"data row3 col11\" >0.10</td>\n",
              "                        <td id=\"T_c4e63ea2_1ac5_11ec_8e92_0242ac1c0002row3_col12\" class=\"data row3 col12\" >0.06</td>\n",
              "                        <td id=\"T_c4e63ea2_1ac5_11ec_8e92_0242ac1c0002row3_col13\" class=\"data row3 col13\" >0.14</td>\n",
              "            </tr>\n",
              "            <tr>\n",
              "                        <th id=\"T_c4e63ea2_1ac5_11ec_8e92_0242ac1c0002level0_row4\" class=\"row_heading level0 row4\" >chol</th>\n",
              "                        <td id=\"T_c4e63ea2_1ac5_11ec_8e92_0242ac1c0002row4_col0\" class=\"data row4 col0\" >nan</td>\n",
              "                        <td id=\"T_c4e63ea2_1ac5_11ec_8e92_0242ac1c0002row4_col1\" class=\"data row4 col1\" >nan</td>\n",
              "                        <td id=\"T_c4e63ea2_1ac5_11ec_8e92_0242ac1c0002row4_col2\" class=\"data row4 col2\" >nan</td>\n",
              "                        <td id=\"T_c4e63ea2_1ac5_11ec_8e92_0242ac1c0002row4_col3\" class=\"data row4 col3\" >nan</td>\n",
              "                        <td id=\"T_c4e63ea2_1ac5_11ec_8e92_0242ac1c0002row4_col4\" class=\"data row4 col4\" >nan</td>\n",
              "                        <td id=\"T_c4e63ea2_1ac5_11ec_8e92_0242ac1c0002row4_col5\" class=\"data row4 col5\" >0.01</td>\n",
              "                        <td id=\"T_c4e63ea2_1ac5_11ec_8e92_0242ac1c0002row4_col6\" class=\"data row4 col6\" >0.15</td>\n",
              "                        <td id=\"T_c4e63ea2_1ac5_11ec_8e92_0242ac1c0002row4_col7\" class=\"data row4 col7\" >0.01</td>\n",
              "                        <td id=\"T_c4e63ea2_1ac5_11ec_8e92_0242ac1c0002row4_col8\" class=\"data row4 col8\" >0.07</td>\n",
              "                        <td id=\"T_c4e63ea2_1ac5_11ec_8e92_0242ac1c0002row4_col9\" class=\"data row4 col9\" >0.05</td>\n",
              "                        <td id=\"T_c4e63ea2_1ac5_11ec_8e92_0242ac1c0002row4_col10\" class=\"data row4 col10\" >0.00</td>\n",
              "                        <td id=\"T_c4e63ea2_1ac5_11ec_8e92_0242ac1c0002row4_col11\" class=\"data row4 col11\" >0.07</td>\n",
              "                        <td id=\"T_c4e63ea2_1ac5_11ec_8e92_0242ac1c0002row4_col12\" class=\"data row4 col12\" >0.10</td>\n",
              "                        <td id=\"T_c4e63ea2_1ac5_11ec_8e92_0242ac1c0002row4_col13\" class=\"data row4 col13\" >0.09</td>\n",
              "            </tr>\n",
              "            <tr>\n",
              "                        <th id=\"T_c4e63ea2_1ac5_11ec_8e92_0242ac1c0002level0_row5\" class=\"row_heading level0 row5\" >fbs</th>\n",
              "                        <td id=\"T_c4e63ea2_1ac5_11ec_8e92_0242ac1c0002row5_col0\" class=\"data row5 col0\" >nan</td>\n",
              "                        <td id=\"T_c4e63ea2_1ac5_11ec_8e92_0242ac1c0002row5_col1\" class=\"data row5 col1\" >nan</td>\n",
              "                        <td id=\"T_c4e63ea2_1ac5_11ec_8e92_0242ac1c0002row5_col2\" class=\"data row5 col2\" >nan</td>\n",
              "                        <td id=\"T_c4e63ea2_1ac5_11ec_8e92_0242ac1c0002row5_col3\" class=\"data row5 col3\" >nan</td>\n",
              "                        <td id=\"T_c4e63ea2_1ac5_11ec_8e92_0242ac1c0002row5_col4\" class=\"data row5 col4\" >nan</td>\n",
              "                        <td id=\"T_c4e63ea2_1ac5_11ec_8e92_0242ac1c0002row5_col5\" class=\"data row5 col5\" >nan</td>\n",
              "                        <td id=\"T_c4e63ea2_1ac5_11ec_8e92_0242ac1c0002row5_col6\" class=\"data row5 col6\" >0.08</td>\n",
              "                        <td id=\"T_c4e63ea2_1ac5_11ec_8e92_0242ac1c0002row5_col7\" class=\"data row5 col7\" >0.01</td>\n",
              "                        <td id=\"T_c4e63ea2_1ac5_11ec_8e92_0242ac1c0002row5_col8\" class=\"data row5 col8\" >0.03</td>\n",
              "                        <td id=\"T_c4e63ea2_1ac5_11ec_8e92_0242ac1c0002row5_col9\" class=\"data row5 col9\" >0.01</td>\n",
              "                        <td id=\"T_c4e63ea2_1ac5_11ec_8e92_0242ac1c0002row5_col10\" class=\"data row5 col10\" >0.06</td>\n",
              "                        <td id=\"T_c4e63ea2_1ac5_11ec_8e92_0242ac1c0002row5_col11\" class=\"data row5 col11\" >0.14</td>\n",
              "                        <td id=\"T_c4e63ea2_1ac5_11ec_8e92_0242ac1c0002row5_col12\" class=\"data row5 col12\" >0.03</td>\n",
              "                        <td id=\"T_c4e63ea2_1ac5_11ec_8e92_0242ac1c0002row5_col13\" class=\"data row5 col13\" >0.03</td>\n",
              "            </tr>\n",
              "            <tr>\n",
              "                        <th id=\"T_c4e63ea2_1ac5_11ec_8e92_0242ac1c0002level0_row6\" class=\"row_heading level0 row6\" >restecg</th>\n",
              "                        <td id=\"T_c4e63ea2_1ac5_11ec_8e92_0242ac1c0002row6_col0\" class=\"data row6 col0\" >nan</td>\n",
              "                        <td id=\"T_c4e63ea2_1ac5_11ec_8e92_0242ac1c0002row6_col1\" class=\"data row6 col1\" >nan</td>\n",
              "                        <td id=\"T_c4e63ea2_1ac5_11ec_8e92_0242ac1c0002row6_col2\" class=\"data row6 col2\" >nan</td>\n",
              "                        <td id=\"T_c4e63ea2_1ac5_11ec_8e92_0242ac1c0002row6_col3\" class=\"data row6 col3\" >nan</td>\n",
              "                        <td id=\"T_c4e63ea2_1ac5_11ec_8e92_0242ac1c0002row6_col4\" class=\"data row6 col4\" >nan</td>\n",
              "                        <td id=\"T_c4e63ea2_1ac5_11ec_8e92_0242ac1c0002row6_col5\" class=\"data row6 col5\" >nan</td>\n",
              "                        <td id=\"T_c4e63ea2_1ac5_11ec_8e92_0242ac1c0002row6_col6\" class=\"data row6 col6\" >nan</td>\n",
              "                        <td id=\"T_c4e63ea2_1ac5_11ec_8e92_0242ac1c0002row6_col7\" class=\"data row6 col7\" >0.04</td>\n",
              "                        <td id=\"T_c4e63ea2_1ac5_11ec_8e92_0242ac1c0002row6_col8\" class=\"data row6 col8\" >0.07</td>\n",
              "                        <td id=\"T_c4e63ea2_1ac5_11ec_8e92_0242ac1c0002row6_col9\" class=\"data row6 col9\" >0.06</td>\n",
              "                        <td id=\"T_c4e63ea2_1ac5_11ec_8e92_0242ac1c0002row6_col10\" class=\"data row6 col10\" >0.09</td>\n",
              "                        <td id=\"T_c4e63ea2_1ac5_11ec_8e92_0242ac1c0002row6_col11\" class=\"data row6 col11\" >0.07</td>\n",
              "                        <td id=\"T_c4e63ea2_1ac5_11ec_8e92_0242ac1c0002row6_col12\" class=\"data row6 col12\" >0.01</td>\n",
              "                        <td id=\"T_c4e63ea2_1ac5_11ec_8e92_0242ac1c0002row6_col13\" class=\"data row6 col13\" >0.14</td>\n",
              "            </tr>\n",
              "            <tr>\n",
              "                        <th id=\"T_c4e63ea2_1ac5_11ec_8e92_0242ac1c0002level0_row7\" class=\"row_heading level0 row7\" >thalach</th>\n",
              "                        <td id=\"T_c4e63ea2_1ac5_11ec_8e92_0242ac1c0002row7_col0\" class=\"data row7 col0\" >nan</td>\n",
              "                        <td id=\"T_c4e63ea2_1ac5_11ec_8e92_0242ac1c0002row7_col1\" class=\"data row7 col1\" >nan</td>\n",
              "                        <td id=\"T_c4e63ea2_1ac5_11ec_8e92_0242ac1c0002row7_col2\" class=\"data row7 col2\" >nan</td>\n",
              "                        <td id=\"T_c4e63ea2_1ac5_11ec_8e92_0242ac1c0002row7_col3\" class=\"data row7 col3\" >nan</td>\n",
              "                        <td id=\"T_c4e63ea2_1ac5_11ec_8e92_0242ac1c0002row7_col4\" class=\"data row7 col4\" >nan</td>\n",
              "                        <td id=\"T_c4e63ea2_1ac5_11ec_8e92_0242ac1c0002row7_col5\" class=\"data row7 col5\" >nan</td>\n",
              "                        <td id=\"T_c4e63ea2_1ac5_11ec_8e92_0242ac1c0002row7_col6\" class=\"data row7 col6\" >nan</td>\n",
              "                        <td id=\"T_c4e63ea2_1ac5_11ec_8e92_0242ac1c0002row7_col7\" class=\"data row7 col7\" >nan</td>\n",
              "                        <td id=\"T_c4e63ea2_1ac5_11ec_8e92_0242ac1c0002row7_col8\" class=\"data row7 col8\" >0.38</td>\n",
              "                        <td id=\"T_c4e63ea2_1ac5_11ec_8e92_0242ac1c0002row7_col9\" class=\"data row7 col9\" >0.34</td>\n",
              "                        <td id=\"T_c4e63ea2_1ac5_11ec_8e92_0242ac1c0002row7_col10\" class=\"data row7 col10\" >0.39</td>\n",
              "                        <td id=\"T_c4e63ea2_1ac5_11ec_8e92_0242ac1c0002row7_col11\" class=\"data row7 col11\" >0.21</td>\n",
              "                        <td id=\"T_c4e63ea2_1ac5_11ec_8e92_0242ac1c0002row7_col12\" class=\"data row7 col12\" >0.10</td>\n",
              "                        <td id=\"T_c4e63ea2_1ac5_11ec_8e92_0242ac1c0002row7_col13\" class=\"data row7 col13\" >0.42</td>\n",
              "            </tr>\n",
              "            <tr>\n",
              "                        <th id=\"T_c4e63ea2_1ac5_11ec_8e92_0242ac1c0002level0_row8\" class=\"row_heading level0 row8\" >exang</th>\n",
              "                        <td id=\"T_c4e63ea2_1ac5_11ec_8e92_0242ac1c0002row8_col0\" class=\"data row8 col0\" >nan</td>\n",
              "                        <td id=\"T_c4e63ea2_1ac5_11ec_8e92_0242ac1c0002row8_col1\" class=\"data row8 col1\" >nan</td>\n",
              "                        <td id=\"T_c4e63ea2_1ac5_11ec_8e92_0242ac1c0002row8_col2\" class=\"data row8 col2\" >nan</td>\n",
              "                        <td id=\"T_c4e63ea2_1ac5_11ec_8e92_0242ac1c0002row8_col3\" class=\"data row8 col3\" >nan</td>\n",
              "                        <td id=\"T_c4e63ea2_1ac5_11ec_8e92_0242ac1c0002row8_col4\" class=\"data row8 col4\" >nan</td>\n",
              "                        <td id=\"T_c4e63ea2_1ac5_11ec_8e92_0242ac1c0002row8_col5\" class=\"data row8 col5\" >nan</td>\n",
              "                        <td id=\"T_c4e63ea2_1ac5_11ec_8e92_0242ac1c0002row8_col6\" class=\"data row8 col6\" >nan</td>\n",
              "                        <td id=\"T_c4e63ea2_1ac5_11ec_8e92_0242ac1c0002row8_col7\" class=\"data row8 col7\" >nan</td>\n",
              "                        <td id=\"T_c4e63ea2_1ac5_11ec_8e92_0242ac1c0002row8_col8\" class=\"data row8 col8\" >nan</td>\n",
              "                        <td id=\"T_c4e63ea2_1ac5_11ec_8e92_0242ac1c0002row8_col9\" class=\"data row8 col9\" >0.29</td>\n",
              "                        <td id=\"T_c4e63ea2_1ac5_11ec_8e92_0242ac1c0002row8_col10\" class=\"data row8 col10\" >0.26</td>\n",
              "                        <td id=\"T_c4e63ea2_1ac5_11ec_8e92_0242ac1c0002row8_col11\" class=\"data row8 col11\" >0.12</td>\n",
              "                        <td id=\"T_c4e63ea2_1ac5_11ec_8e92_0242ac1c0002row8_col12\" class=\"data row8 col12\" >0.21</td>\n",
              "                        <td id=\"T_c4e63ea2_1ac5_11ec_8e92_0242ac1c0002row8_col13\" class=\"data row8 col13\" >0.44</td>\n",
              "            </tr>\n",
              "            <tr>\n",
              "                        <th id=\"T_c4e63ea2_1ac5_11ec_8e92_0242ac1c0002level0_row9\" class=\"row_heading level0 row9\" >oldpeak</th>\n",
              "                        <td id=\"T_c4e63ea2_1ac5_11ec_8e92_0242ac1c0002row9_col0\" class=\"data row9 col0\" >nan</td>\n",
              "                        <td id=\"T_c4e63ea2_1ac5_11ec_8e92_0242ac1c0002row9_col1\" class=\"data row9 col1\" >nan</td>\n",
              "                        <td id=\"T_c4e63ea2_1ac5_11ec_8e92_0242ac1c0002row9_col2\" class=\"data row9 col2\" >nan</td>\n",
              "                        <td id=\"T_c4e63ea2_1ac5_11ec_8e92_0242ac1c0002row9_col3\" class=\"data row9 col3\" >nan</td>\n",
              "                        <td id=\"T_c4e63ea2_1ac5_11ec_8e92_0242ac1c0002row9_col4\" class=\"data row9 col4\" >nan</td>\n",
              "                        <td id=\"T_c4e63ea2_1ac5_11ec_8e92_0242ac1c0002row9_col5\" class=\"data row9 col5\" >nan</td>\n",
              "                        <td id=\"T_c4e63ea2_1ac5_11ec_8e92_0242ac1c0002row9_col6\" class=\"data row9 col6\" >nan</td>\n",
              "                        <td id=\"T_c4e63ea2_1ac5_11ec_8e92_0242ac1c0002row9_col7\" class=\"data row9 col7\" >nan</td>\n",
              "                        <td id=\"T_c4e63ea2_1ac5_11ec_8e92_0242ac1c0002row9_col8\" class=\"data row9 col8\" >nan</td>\n",
              "                        <td id=\"T_c4e63ea2_1ac5_11ec_8e92_0242ac1c0002row9_col9\" class=\"data row9 col9\" >nan</td>\n",
              "                        <td id=\"T_c4e63ea2_1ac5_11ec_8e92_0242ac1c0002row9_col10\" class=\"data row9 col10\" >0.58</td>\n",
              "                        <td id=\"T_c4e63ea2_1ac5_11ec_8e92_0242ac1c0002row9_col11\" class=\"data row9 col11\" >0.22</td>\n",
              "                        <td id=\"T_c4e63ea2_1ac5_11ec_8e92_0242ac1c0002row9_col12\" class=\"data row9 col12\" >0.21</td>\n",
              "                        <td id=\"T_c4e63ea2_1ac5_11ec_8e92_0242ac1c0002row9_col13\" class=\"data row9 col13\" >0.43</td>\n",
              "            </tr>\n",
              "            <tr>\n",
              "                        <th id=\"T_c4e63ea2_1ac5_11ec_8e92_0242ac1c0002level0_row10\" class=\"row_heading level0 row10\" >slope</th>\n",
              "                        <td id=\"T_c4e63ea2_1ac5_11ec_8e92_0242ac1c0002row10_col0\" class=\"data row10 col0\" >nan</td>\n",
              "                        <td id=\"T_c4e63ea2_1ac5_11ec_8e92_0242ac1c0002row10_col1\" class=\"data row10 col1\" >nan</td>\n",
              "                        <td id=\"T_c4e63ea2_1ac5_11ec_8e92_0242ac1c0002row10_col2\" class=\"data row10 col2\" >nan</td>\n",
              "                        <td id=\"T_c4e63ea2_1ac5_11ec_8e92_0242ac1c0002row10_col3\" class=\"data row10 col3\" >nan</td>\n",
              "                        <td id=\"T_c4e63ea2_1ac5_11ec_8e92_0242ac1c0002row10_col4\" class=\"data row10 col4\" >nan</td>\n",
              "                        <td id=\"T_c4e63ea2_1ac5_11ec_8e92_0242ac1c0002row10_col5\" class=\"data row10 col5\" >nan</td>\n",
              "                        <td id=\"T_c4e63ea2_1ac5_11ec_8e92_0242ac1c0002row10_col6\" class=\"data row10 col6\" >nan</td>\n",
              "                        <td id=\"T_c4e63ea2_1ac5_11ec_8e92_0242ac1c0002row10_col7\" class=\"data row10 col7\" >nan</td>\n",
              "                        <td id=\"T_c4e63ea2_1ac5_11ec_8e92_0242ac1c0002row10_col8\" class=\"data row10 col8\" >nan</td>\n",
              "                        <td id=\"T_c4e63ea2_1ac5_11ec_8e92_0242ac1c0002row10_col9\" class=\"data row10 col9\" >nan</td>\n",
              "                        <td id=\"T_c4e63ea2_1ac5_11ec_8e92_0242ac1c0002row10_col10\" class=\"data row10 col10\" >nan</td>\n",
              "                        <td id=\"T_c4e63ea2_1ac5_11ec_8e92_0242ac1c0002row10_col11\" class=\"data row10 col11\" >0.08</td>\n",
              "                        <td id=\"T_c4e63ea2_1ac5_11ec_8e92_0242ac1c0002row10_col12\" class=\"data row10 col12\" >0.10</td>\n",
              "                        <td id=\"T_c4e63ea2_1ac5_11ec_8e92_0242ac1c0002row10_col13\" class=\"data row10 col13\" >0.35</td>\n",
              "            </tr>\n",
              "            <tr>\n",
              "                        <th id=\"T_c4e63ea2_1ac5_11ec_8e92_0242ac1c0002level0_row11\" class=\"row_heading level0 row11\" >ca</th>\n",
              "                        <td id=\"T_c4e63ea2_1ac5_11ec_8e92_0242ac1c0002row11_col0\" class=\"data row11 col0\" >nan</td>\n",
              "                        <td id=\"T_c4e63ea2_1ac5_11ec_8e92_0242ac1c0002row11_col1\" class=\"data row11 col1\" >nan</td>\n",
              "                        <td id=\"T_c4e63ea2_1ac5_11ec_8e92_0242ac1c0002row11_col2\" class=\"data row11 col2\" >nan</td>\n",
              "                        <td id=\"T_c4e63ea2_1ac5_11ec_8e92_0242ac1c0002row11_col3\" class=\"data row11 col3\" >nan</td>\n",
              "                        <td id=\"T_c4e63ea2_1ac5_11ec_8e92_0242ac1c0002row11_col4\" class=\"data row11 col4\" >nan</td>\n",
              "                        <td id=\"T_c4e63ea2_1ac5_11ec_8e92_0242ac1c0002row11_col5\" class=\"data row11 col5\" >nan</td>\n",
              "                        <td id=\"T_c4e63ea2_1ac5_11ec_8e92_0242ac1c0002row11_col6\" class=\"data row11 col6\" >nan</td>\n",
              "                        <td id=\"T_c4e63ea2_1ac5_11ec_8e92_0242ac1c0002row11_col7\" class=\"data row11 col7\" >nan</td>\n",
              "                        <td id=\"T_c4e63ea2_1ac5_11ec_8e92_0242ac1c0002row11_col8\" class=\"data row11 col8\" >nan</td>\n",
              "                        <td id=\"T_c4e63ea2_1ac5_11ec_8e92_0242ac1c0002row11_col9\" class=\"data row11 col9\" >nan</td>\n",
              "                        <td id=\"T_c4e63ea2_1ac5_11ec_8e92_0242ac1c0002row11_col10\" class=\"data row11 col10\" >nan</td>\n",
              "                        <td id=\"T_c4e63ea2_1ac5_11ec_8e92_0242ac1c0002row11_col11\" class=\"data row11 col11\" >nan</td>\n",
              "                        <td id=\"T_c4e63ea2_1ac5_11ec_8e92_0242ac1c0002row11_col12\" class=\"data row11 col12\" >0.15</td>\n",
              "                        <td id=\"T_c4e63ea2_1ac5_11ec_8e92_0242ac1c0002row11_col13\" class=\"data row11 col13\" >0.39</td>\n",
              "            </tr>\n",
              "            <tr>\n",
              "                        <th id=\"T_c4e63ea2_1ac5_11ec_8e92_0242ac1c0002level0_row12\" class=\"row_heading level0 row12\" >thal</th>\n",
              "                        <td id=\"T_c4e63ea2_1ac5_11ec_8e92_0242ac1c0002row12_col0\" class=\"data row12 col0\" >nan</td>\n",
              "                        <td id=\"T_c4e63ea2_1ac5_11ec_8e92_0242ac1c0002row12_col1\" class=\"data row12 col1\" >nan</td>\n",
              "                        <td id=\"T_c4e63ea2_1ac5_11ec_8e92_0242ac1c0002row12_col2\" class=\"data row12 col2\" >nan</td>\n",
              "                        <td id=\"T_c4e63ea2_1ac5_11ec_8e92_0242ac1c0002row12_col3\" class=\"data row12 col3\" >nan</td>\n",
              "                        <td id=\"T_c4e63ea2_1ac5_11ec_8e92_0242ac1c0002row12_col4\" class=\"data row12 col4\" >nan</td>\n",
              "                        <td id=\"T_c4e63ea2_1ac5_11ec_8e92_0242ac1c0002row12_col5\" class=\"data row12 col5\" >nan</td>\n",
              "                        <td id=\"T_c4e63ea2_1ac5_11ec_8e92_0242ac1c0002row12_col6\" class=\"data row12 col6\" >nan</td>\n",
              "                        <td id=\"T_c4e63ea2_1ac5_11ec_8e92_0242ac1c0002row12_col7\" class=\"data row12 col7\" >nan</td>\n",
              "                        <td id=\"T_c4e63ea2_1ac5_11ec_8e92_0242ac1c0002row12_col8\" class=\"data row12 col8\" >nan</td>\n",
              "                        <td id=\"T_c4e63ea2_1ac5_11ec_8e92_0242ac1c0002row12_col9\" class=\"data row12 col9\" >nan</td>\n",
              "                        <td id=\"T_c4e63ea2_1ac5_11ec_8e92_0242ac1c0002row12_col10\" class=\"data row12 col10\" >nan</td>\n",
              "                        <td id=\"T_c4e63ea2_1ac5_11ec_8e92_0242ac1c0002row12_col11\" class=\"data row12 col11\" >nan</td>\n",
              "                        <td id=\"T_c4e63ea2_1ac5_11ec_8e92_0242ac1c0002row12_col12\" class=\"data row12 col12\" >nan</td>\n",
              "                        <td id=\"T_c4e63ea2_1ac5_11ec_8e92_0242ac1c0002row12_col13\" class=\"data row12 col13\" >0.34</td>\n",
              "            </tr>\n",
              "            <tr>\n",
              "                        <th id=\"T_c4e63ea2_1ac5_11ec_8e92_0242ac1c0002level0_row13\" class=\"row_heading level0 row13\" >target</th>\n",
              "                        <td id=\"T_c4e63ea2_1ac5_11ec_8e92_0242ac1c0002row13_col0\" class=\"data row13 col0\" >nan</td>\n",
              "                        <td id=\"T_c4e63ea2_1ac5_11ec_8e92_0242ac1c0002row13_col1\" class=\"data row13 col1\" >nan</td>\n",
              "                        <td id=\"T_c4e63ea2_1ac5_11ec_8e92_0242ac1c0002row13_col2\" class=\"data row13 col2\" >nan</td>\n",
              "                        <td id=\"T_c4e63ea2_1ac5_11ec_8e92_0242ac1c0002row13_col3\" class=\"data row13 col3\" >nan</td>\n",
              "                        <td id=\"T_c4e63ea2_1ac5_11ec_8e92_0242ac1c0002row13_col4\" class=\"data row13 col4\" >nan</td>\n",
              "                        <td id=\"T_c4e63ea2_1ac5_11ec_8e92_0242ac1c0002row13_col5\" class=\"data row13 col5\" >nan</td>\n",
              "                        <td id=\"T_c4e63ea2_1ac5_11ec_8e92_0242ac1c0002row13_col6\" class=\"data row13 col6\" >nan</td>\n",
              "                        <td id=\"T_c4e63ea2_1ac5_11ec_8e92_0242ac1c0002row13_col7\" class=\"data row13 col7\" >nan</td>\n",
              "                        <td id=\"T_c4e63ea2_1ac5_11ec_8e92_0242ac1c0002row13_col8\" class=\"data row13 col8\" >nan</td>\n",
              "                        <td id=\"T_c4e63ea2_1ac5_11ec_8e92_0242ac1c0002row13_col9\" class=\"data row13 col9\" >nan</td>\n",
              "                        <td id=\"T_c4e63ea2_1ac5_11ec_8e92_0242ac1c0002row13_col10\" class=\"data row13 col10\" >nan</td>\n",
              "                        <td id=\"T_c4e63ea2_1ac5_11ec_8e92_0242ac1c0002row13_col11\" class=\"data row13 col11\" >nan</td>\n",
              "                        <td id=\"T_c4e63ea2_1ac5_11ec_8e92_0242ac1c0002row13_col12\" class=\"data row13 col12\" >nan</td>\n",
              "                        <td id=\"T_c4e63ea2_1ac5_11ec_8e92_0242ac1c0002row13_col13\" class=\"data row13 col13\" >nan</td>\n",
              "            </tr>\n",
              "    </tbody></table>"
            ],
            "text/plain": [
              "<pandas.io.formats.style.Styler at 0x7f6468407890>"
            ]
          },
          "metadata": {},
          "execution_count": 11
        }
      ]
    },
    {
      "cell_type": "code",
      "metadata": {
        "id": "F2VO8DPgwwQF",
        "colab": {
          "base_uri": "https://localhost:8080/"
        },
        "outputId": "48cfc360-8a9e-498c-be46-175cc7314163"
      },
      "source": [
        "collinear_features = [column for column in upper.columns if any(upper[column] > threshold)]\n",
        "features_filtered = data.drop(columns = collinear_features)\n",
        "print('The number of features that passed the collinearity threshold: ', features_filtered.shape[1])\n",
        "features_best.append(features_filtered.columns.tolist())"
      ],
      "execution_count": 12,
      "outputs": [
        {
          "output_type": "stream",
          "name": "stdout",
          "text": [
            "The number of features that passed the collinearity threshold:  14\n"
          ]
        }
      ]
    },
    {
      "cell_type": "markdown",
      "metadata": {
        "id": "3rkVeYCWwwQG"
      },
      "source": [
        "### Linear SVC"
      ]
    },
    {
      "cell_type": "code",
      "metadata": {
        "id": "YtsoWqX-wwQG"
      },
      "source": [
        "lsvc = LinearSVC(C=0.1, penalty=\"l1\", dual=False).fit(train, target)\n",
        "model = SelectFromModel(lsvc, prefit=True)\n",
        "X_new = model.transform(train)\n",
        "X_selected_df = pd.DataFrame(X_new, columns=[train.columns[i] for i in range(len(train.columns)) if model.get_support()[i]])\n",
        "features_best.append(X_selected_df.columns.tolist())"
      ],
      "execution_count": 13,
      "outputs": []
    },
    {
      "cell_type": "markdown",
      "metadata": {
        "id": "f2Eif5p1wwQG"
      },
      "source": [
        "### Lasso"
      ]
    },
    {
      "cell_type": "code",
      "metadata": {
        "id": "JIOONvgZwwQG"
      },
      "source": [
        "lasso = LassoCV(cv=3).fit(train, target)\n",
        "model = SelectFromModel(lasso, prefit=True)\n",
        "X_new = model.transform(train)\n",
        "X_selected_df = pd.DataFrame(X_new, columns=[train.columns[i] for i in range(len(train.columns)) if model.get_support()[i]])\n",
        "features_best.append(X_selected_df.columns.tolist())"
      ],
      "execution_count": 14,
      "outputs": []
    },
    {
      "cell_type": "markdown",
      "metadata": {
        "id": "kAqpu3vowwQH"
      },
      "source": [
        "### SelectKBest using Chi2"
      ]
    },
    {
      "cell_type": "code",
      "metadata": {
        "id": "zy2_MxgawwQH",
        "colab": {
          "base_uri": "https://localhost:8080/"
        },
        "outputId": "46482484-fb3a-4c75-cd2b-c978a6add0e9"
      },
      "source": [
        "bestfeatures = SelectKBest(score_func=chi2, k='all')\n",
        "fit = bestfeatures.fit(train, target)\n",
        "dfscores = pd.DataFrame(fit.scores_)\n",
        "dfcolumns = pd.DataFrame(train.columns)\n",
        "\n",
        "#concat two dataframes for better visualization \n",
        "featureScores = pd.concat([dfcolumns,dfscores],axis=1)\n",
        "featureScores.columns = ['Feature','Score']  #naming the dataframe columns\n",
        "features_best.append(featureScores.nlargest(num_features_max,'Score')['Feature'].tolist())\n",
        "print(featureScores.nlargest(len(dfcolumns),'Score')) "
      ],
      "execution_count": 15,
      "outputs": [
        {
          "output_type": "stream",
          "name": "stdout",
          "text": [
            "     Feature       Score\n",
            "7    thalach  188.320472\n",
            "9    oldpeak   72.644253\n",
            "11        ca   66.440765\n",
            "2         cp   62.598098\n",
            "8      exang   38.914377\n",
            "4       chol   23.936394\n",
            "0        age   23.286624\n",
            "3   trestbps   14.823925\n",
            "10     slope    9.804095\n",
            "1        sex    7.576835\n",
            "12      thal    5.791853\n",
            "6    restecg    2.978271\n",
            "5        fbs    0.202934\n"
          ]
        }
      ]
    },
    {
      "cell_type": "markdown",
      "metadata": {
        "id": "8ie0EGJjwwQH"
      },
      "source": [
        "### Regressive Feature Elimination using Logistic Regression"
      ]
    },
    {
      "cell_type": "code",
      "metadata": {
        "id": "AXNgLi9awwQH",
        "colab": {
          "base_uri": "https://localhost:8080/"
        },
        "outputId": "f2f8e363-c921-4b3c-d4fd-35006f24e843"
      },
      "source": [
        "rfe_selector = RFE(estimator=LogisticRegression(), n_features_to_select=num_features_max, step=10, verbose=5)\n",
        "rfe_selector.fit(train, target)\n",
        "rfe_support = rfe_selector.get_support()\n",
        "rfe_feature = train.loc[:,rfe_support].columns.tolist()\n",
        "features_best.append(rfe_feature)"
      ],
      "execution_count": 16,
      "outputs": [
        {
          "output_type": "stream",
          "name": "stderr",
          "text": [
            "/usr/local/lib/python3.7/dist-packages/sklearn/linear_model/_logistic.py:940: ConvergenceWarning: lbfgs failed to converge (status=1):\n",
            "STOP: TOTAL NO. of ITERATIONS REACHED LIMIT.\n",
            "\n",
            "Increase the number of iterations (max_iter) or scale the data as shown in:\n",
            "    https://scikit-learn.org/stable/modules/preprocessing.html\n",
            "Please also refer to the documentation for alternative solver options:\n",
            "    https://scikit-learn.org/stable/modules/linear_model.html#logistic-regression\n",
            "  extra_warning_msg=_LOGISTIC_SOLVER_CONVERGENCE_MSG)\n"
          ]
        }
      ]
    },
    {
      "cell_type": "markdown",
      "metadata": {
        "id": "Ni856ZyXwwQI"
      },
      "source": [
        "### Variance Threshold"
      ]
    },
    {
      "cell_type": "code",
      "metadata": {
        "id": "iwG-XBhDwwQI"
      },
      "source": [
        "selector = VarianceThreshold(threshold=10)\n",
        "np.shape(selector.fit_transform(data))\n",
        "features_best.append(list(np.array(data.columns)[selector.get_support(indices=False)]))"
      ],
      "execution_count": 17,
      "outputs": []
    },
    {
      "cell_type": "code",
      "metadata": {
        "id": "LSPDkcnVwwQI",
        "colab": {
          "base_uri": "https://localhost:8080/"
        },
        "outputId": "a475c340-181c-4eba-f7eb-c2e374aee558"
      },
      "source": [
        "features_best"
      ],
      "execution_count": 18,
      "outputs": [
        {
          "output_type": "execute_result",
          "data": {
            "text/plain": [
              "[['age',\n",
              "  'sex',\n",
              "  'cp',\n",
              "  'trestbps',\n",
              "  'chol',\n",
              "  'fbs',\n",
              "  'restecg',\n",
              "  'thalach',\n",
              "  'exang',\n",
              "  'oldpeak',\n",
              "  'slope',\n",
              "  'ca',\n",
              "  'thal',\n",
              "  'target'],\n",
              " ['age',\n",
              "  'sex',\n",
              "  'cp',\n",
              "  'trestbps',\n",
              "  'chol',\n",
              "  'restecg',\n",
              "  'thalach',\n",
              "  'exang',\n",
              "  'oldpeak',\n",
              "  'slope',\n",
              "  'ca',\n",
              "  'thal'],\n",
              " ['age',\n",
              "  'sex',\n",
              "  'cp',\n",
              "  'trestbps',\n",
              "  'chol',\n",
              "  'restecg',\n",
              "  'thalach',\n",
              "  'exang',\n",
              "  'oldpeak',\n",
              "  'slope',\n",
              "  'ca',\n",
              "  'thal'],\n",
              " ['thalach',\n",
              "  'oldpeak',\n",
              "  'ca',\n",
              "  'cp',\n",
              "  'exang',\n",
              "  'chol',\n",
              "  'age',\n",
              "  'trestbps',\n",
              "  'slope',\n",
              "  'sex',\n",
              "  'thal',\n",
              "  'restecg',\n",
              "  'fbs'],\n",
              " ['age',\n",
              "  'sex',\n",
              "  'cp',\n",
              "  'trestbps',\n",
              "  'chol',\n",
              "  'fbs',\n",
              "  'restecg',\n",
              "  'thalach',\n",
              "  'exang',\n",
              "  'oldpeak',\n",
              "  'slope',\n",
              "  'ca',\n",
              "  'thal'],\n",
              " ['age', 'trestbps', 'chol', 'thalach']]"
            ]
          },
          "metadata": {},
          "execution_count": 18
        }
      ]
    },
    {
      "cell_type": "code",
      "metadata": {
        "id": "fP8BLBTtwwQI",
        "colab": {
          "base_uri": "https://localhost:8080/",
          "height": 357
        },
        "outputId": "89f3140f-ae84-40d5-fe9a-8021fbc64126"
      },
      "source": [
        "main_cols = []\n",
        "main_cols_opt = {feature_name : 0 for feature_name in data.columns.tolist()}\n",
        "for i in range(len(features_best)):\n",
        "    for feature_name in features_best[i]:\n",
        "        main_cols_opt[feature_name] += 1\n",
        "df_main_cols_opt = pd.DataFrame.from_dict(main_cols_opt, orient='index', columns=['Num'])\n",
        "df_main_cols_opt.sort_values(by=['Num'], ascending=False).head(num_features_opt)"
      ],
      "execution_count": 19,
      "outputs": [
        {
          "output_type": "execute_result",
          "data": {
            "text/html": [
              "<div>\n",
              "<style scoped>\n",
              "    .dataframe tbody tr th:only-of-type {\n",
              "        vertical-align: middle;\n",
              "    }\n",
              "\n",
              "    .dataframe tbody tr th {\n",
              "        vertical-align: top;\n",
              "    }\n",
              "\n",
              "    .dataframe thead th {\n",
              "        text-align: right;\n",
              "    }\n",
              "</style>\n",
              "<table border=\"1\" class=\"dataframe\">\n",
              "  <thead>\n",
              "    <tr style=\"text-align: right;\">\n",
              "      <th></th>\n",
              "      <th>Num</th>\n",
              "    </tr>\n",
              "  </thead>\n",
              "  <tbody>\n",
              "    <tr>\n",
              "      <th>age</th>\n",
              "      <td>6</td>\n",
              "    </tr>\n",
              "    <tr>\n",
              "      <th>trestbps</th>\n",
              "      <td>6</td>\n",
              "    </tr>\n",
              "    <tr>\n",
              "      <th>chol</th>\n",
              "      <td>6</td>\n",
              "    </tr>\n",
              "    <tr>\n",
              "      <th>thalach</th>\n",
              "      <td>6</td>\n",
              "    </tr>\n",
              "    <tr>\n",
              "      <th>sex</th>\n",
              "      <td>5</td>\n",
              "    </tr>\n",
              "    <tr>\n",
              "      <th>cp</th>\n",
              "      <td>5</td>\n",
              "    </tr>\n",
              "    <tr>\n",
              "      <th>restecg</th>\n",
              "      <td>5</td>\n",
              "    </tr>\n",
              "    <tr>\n",
              "      <th>exang</th>\n",
              "      <td>5</td>\n",
              "    </tr>\n",
              "    <tr>\n",
              "      <th>oldpeak</th>\n",
              "      <td>5</td>\n",
              "    </tr>\n",
              "    <tr>\n",
              "      <th>slope</th>\n",
              "      <td>5</td>\n",
              "    </tr>\n",
              "  </tbody>\n",
              "</table>\n",
              "</div>"
            ],
            "text/plain": [
              "          Num\n",
              "age         6\n",
              "trestbps    6\n",
              "chol        6\n",
              "thalach     6\n",
              "sex         5\n",
              "cp          5\n",
              "restecg     5\n",
              "exang       5\n",
              "oldpeak     5\n",
              "slope       5"
            ]
          },
          "metadata": {},
          "execution_count": 19
        }
      ]
    },
    {
      "cell_type": "code",
      "metadata": {
        "id": "--dEF31WwwQJ",
        "colab": {
          "base_uri": "https://localhost:8080/"
        },
        "outputId": "1531a215-8b46-4b8b-ae1d-b63c01949b41"
      },
      "source": [
        "main_cols = df_main_cols_opt.nlargest(num_features_opt, 'Num').index.tolist()\n",
        "if not 'target' in main_cols:\n",
        "    main_cols.append('target')\n",
        "main_cols"
      ],
      "execution_count": 20,
      "outputs": [
        {
          "output_type": "execute_result",
          "data": {
            "text/plain": [
              "['age',\n",
              " 'trestbps',\n",
              " 'chol',\n",
              " 'thalach',\n",
              " 'sex',\n",
              " 'cp',\n",
              " 'restecg',\n",
              " 'exang',\n",
              " 'oldpeak',\n",
              " 'slope',\n",
              " 'target']"
            ]
          },
          "metadata": {},
          "execution_count": 20
        }
      ]
    },
    {
      "cell_type": "code",
      "metadata": {
        "id": "Yvx77mG6wwQJ"
      },
      "source": [
        "dataset.to_csv(\"Dataset_after_FS.csv\")"
      ],
      "execution_count": 21,
      "outputs": []
    },
    {
      "cell_type": "code",
      "metadata": {
        "id": "i8rRDij-wwQJ"
      },
      "source": [
        "test0 = dataset.sample(frac = 0.2)\n",
        "\n",
        "train0 = dataset.drop(test0.index)\n",
        "\n",
        "test0.to_csv(\"/content/drive/MyDrive/Heart Dataset/test1.csv\")\n",
        "train0.to_csv(\"/content/drive/MyDrive/Heart Dataset/train1.csv\")"
      ],
      "execution_count": null,
      "outputs": []
    }
  ]
}